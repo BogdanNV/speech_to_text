{
 "cells": [
  {
   "cell_type": "markdown",
   "metadata": {},
   "source": [
    "Для задачи я использовал библиотеки SpeechRecognition и pyaudio.  "
   ]
  },
  {
   "cell_type": "code",
   "execution_count": null,
   "metadata": {},
   "outputs": [],
   "source": [
    "!pip install SpeechRecognition  pyaudio\n"
   ]
  },
  {
   "cell_type": "code",
   "execution_count": 48,
   "metadata": {},
   "outputs": [],
   "source": [
    "import speech_recognition as sr\n",
    "import pyaudio\n",
    "import os"
   ]
  },
  {
   "cell_type": "code",
   "execution_count": 67,
   "metadata": {},
   "outputs": [],
   "source": [
    "def speech_to_text(name_file: str, audio_file=None, format='.txt') -> None:\n",
    "    \"\"\"Функция для преобразования аудиофайла с русской речью в текстовый формат\n",
    "\n",
    "    Args:\n",
    "        name_file (str): Название файла в который будет записан распознаный текст\n",
    "        audio_file (optional): ссылка на голосовой файл. Если не указан, используется микрофон для записи речи.\n",
    "        format (str, optional): Формат для записи текстовово файла. По умолчанию '.txt'.\n",
    "    \"\"\"\n",
    "\n",
    "    #для начала нужно создать распознаватель\n",
    "    r = sr.Recognizer()\n",
    "    \n",
    "    #далее нужно звуковой файл звуковой файл обабатывается и данные сохраняются в экзмляре библиотеки speech_recognition для дальнейшеё обработки\n",
    "    if audio_file: \n",
    "        sound = sr.AudioFile(os.path.normpath(audio_file)) \n",
    "    \n",
    "        with sound as source: \n",
    "            audio = r.record(source)\n",
    "            \n",
    "    else:\n",
    "        mic = sr.Microphone()\n",
    "        with mic as source:\n",
    "            r.adjust_for_ambient_noise(source=source, duration=0.5)\n",
    "            audio = r.listen(source)\n",
    "        \n",
    "    #для распознования я использовал распознователь от google, в котором указал язык записанной речи\n",
    "    text = r.recognize_google(audio_data=audio, language=\"ru-RU\") \n",
    "    \n",
    "    #полученный текст записывается в текстовом формате по умолчанию .txt\n",
    "    with open(name_file+format, 'w') as file:\n",
    "        file.write(text)"
   ]
  },
  {
   "cell_type": "code",
   "execution_count": 77,
   "metadata": {},
   "outputs": [],
   "source": [
    "def recod_audio(filename, format=\".wav\", duration=3):\n",
    "    \"\"\"Функция для записи аудио с микрофона.\n",
    "\n",
    "    Args:\n",
    "        filename (str): Название файла \n",
    "        format (str, optional): Формат записи аудиофайла. По умолчанию \".wav\".\n",
    "        duration (int, optional): Время для записи. По умолчанию  3 секунды.\n",
    "\n",
    "    Returns:\n",
    "        str: название файла в котором записался звук.\n",
    "    \"\"\"\n",
    "    import wave\n",
    "    import pyaudio\n",
    "    \n",
    "    chunk = 1024 # Запись кусками по 1024 сэмпла\n",
    "    sample_format = pyaudio.paInt32 # 16 бит на выборку\n",
    "    channels = 1\n",
    "    rate = 44100 # Запись со скоростью 44100 выборок(samples) в секунду\n",
    "    \n",
    "    p = pyaudio.PyAudio() \n",
    "\n",
    "    print('Начало записи...')\n",
    "\n",
    "    stream = p.open(format=sample_format,\n",
    "    channels=channels,\n",
    "    rate=rate,\n",
    "    frames_per_buffer=chunk,\n",
    "    #input_device_index=1, # индекс устройства с которого будет идти запись звука \n",
    "    input=True)\n",
    "\n",
    "    frames = [] # Инициализировать массив для хранения кадров\n",
    "\n",
    "    # Хранить данные в блоках в течение 3 секунд\n",
    "    for i in range(0, int(rate / chunk * duration)):\n",
    "        data = stream.read(chunk)\n",
    "        frames.append(data)\n",
    "\n",
    "    # Остановить и закрыть поток\n",
    "    stream.stop_stream()\n",
    "    stream.close()\n",
    "    # Завершить интерфейс PortAudio\n",
    "    p.terminate()\n",
    "\n",
    "    print('Записано!')\n",
    "    \n",
    "    with wave.open(filename+format, 'wb') as wf:\n",
    "        wf.setnchannels(channels)\n",
    "        wf.setsampwidth(p.get_sample_size(sample_format))\n",
    "        wf.setframerate(rate)\n",
    "        wf.writeframes(b''.join(frames))\n",
    "    del frames\n",
    "    return filename+format"
   ]
  },
  {
   "cell_type": "markdown",
   "metadata": {},
   "source": [
    "Для выполнения задания я использовал следующие статьи:\n",
    "* https://pythonpip.ru/examples/raspoznavanie-rechi-i-golosa-na-python-podrobno для преобразования звука в текст\n",
    "* https://blog-programmista.ru/post/103-python-ispolzuem-pyaudio-dla-zapisi-zvuka.html?ysclid=lnbh6x8g31788894595 для записи звука с микрофона."
   ]
  }
 ],
 "metadata": {
  "kernelspec": {
   "display_name": ".venv",
   "language": "python",
   "name": "python3"
  },
  "language_info": {
   "codemirror_mode": {
    "name": "ipython",
    "version": 3
   },
   "file_extension": ".py",
   "mimetype": "text/x-python",
   "name": "python",
   "nbconvert_exporter": "python",
   "pygments_lexer": "ipython3",
   "version": "3.10.9"
  },
  "orig_nbformat": 4
 },
 "nbformat": 4,
 "nbformat_minor": 2
}
